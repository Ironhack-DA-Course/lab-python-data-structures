{
 "cells": [
  {
   "cell_type": "markdown",
   "metadata": {
    "tags": []
   },
   "source": [
    "# Lab | Data Structures "
   ]
  },
  {
   "cell_type": "markdown",
   "metadata": {},
   "source": [
    "## Exercise: Managing Customer Orders\n",
    "\n",
    "As part of a business venture, you are starting an online store that sells various products. To ensure smooth operations, you need to develop a program that manages customer orders and inventory.\n",
    "\n",
    "Follow the steps below to complete the exercise:\n",
    "\n",
    "1. Define a list called `products` that contains the following items: \"t-shirt\", \"mug\", \"hat\", \"book\", \"keychain\".\n",
    "\n",
    "2. Create an empty dictionary called `inventory`.\n",
    "\n",
    "3. Ask the user to input the quantity of each product available in the inventory. Use the product names from the `products` list as keys in the `inventory` dictionary and assign the respective quantities as values.\n",
    "\n",
    "4. Create an empty set called `customer_orders`.\n",
    "\n",
    "5. Ask the user to input the name of three products that a customer wants to order (from those in the products list, meaning three products out of \"t-shirt\", \"mug\", \"hat\", \"book\" or \"keychain\". Add each product name to the `customer_orders` set.\n",
    "\n",
    "6. Print the products in the `customer_orders` set.\n",
    "\n",
    "7. Calculate the following order statistics:\n",
    "   - Total Products Ordered: The total number of products in the `customer_orders` set.\n",
    "   - Percentage of Products Ordered: The percentage of products ordered compared to the total available products.\n",
    "   \n",
    "   Store these statistics in a tuple called `order_status`.\n",
    "\n",
    "8. Print the order statistics using the following format:\n",
    "   ```\n",
    "   Order Statistics:\n",
    "   Total Products Ordered: <total_products_ordered>\n",
    "   Percentage of Products Ordered: <percentage_ordered>% \n",
    "   ```\n",
    "\n",
    "9. Update the inventory by subtracting 1 from the quantity of each product. Modify the `inventory` dictionary accordingly.\n",
    "\n",
    "10. Print the updated inventory, displaying the quantity of each product on separate lines.\n",
    "\n",
    "Solve the exercise by implementing the steps using the Python concepts of lists, dictionaries, sets, and basic input/output operations. "
   ]
  },
  {
   "cell_type": "markdown",
   "metadata": {},
   "source": [
    "Solution:"
   ]
  },
  {
   "cell_type": "code",
   "execution_count": 17,
   "metadata": {},
   "outputs": [],
   "source": [
    "products = [\"t-shirt\", \"mug\", \"hat\", \"book\", \"keychain\"]\n",
    "total_prods= len(products)\n",
    "inventory = {}\n",
    "for i in range(total_prods):\n",
    "    prod_quant= input(f\"Quantity of product {products[i]}\")\n",
    "    inventory[products[i]] = int(prod_quant)\n",
    "# print(f\"{inventory}\")"
   ]
  },
  {
   "cell_type": "code",
   "execution_count": 18,
   "metadata": {},
   "outputs": [
    {
     "name": "stdout",
     "output_type": "stream",
     "text": [
      " {'book', 't-shirt', 'mug'}\n"
     ]
    }
   ],
   "source": [
    "customer_orders = set()\n",
    "\n",
    "for i in range(3):\n",
    "    cust_prod = input(f\"Product [{i+1}] \")\n",
    "    available_prod = False\n",
    "    while available_prod == False :               \n",
    "          if cust_prod in products:\n",
    "              customer_orders.add(cust_prod)\n",
    "              available_prod = True\n",
    "          else:\n",
    "              print(f\"The product [{i+1}] {cust_prod} is not available\")\n",
    "              cust_prod = input(f\"Product \")  \n",
    "\n",
    "print(f\" {customer_orders}\")"
   ]
  },
  {
   "cell_type": "code",
   "execution_count": 19,
   "metadata": {},
   "outputs": [
    {
     "name": "stdout",
     "output_type": "stream",
     "text": [
      "57.142857142857146\n",
      "14.285714285714286\n",
      "28.571428571428573\n",
      "Order Statistics:\n",
      "Total Products Ordered: 7\n",
      "Percentage of Products Ordered: {'book': 57.142857142857146, 't-shirt': 14.285714285714286, 'mug': 28.571428571428573}\n"
     ]
    }
   ],
   "source": [
    "num_total_prods = 0\n",
    "percent_orders = {}\n",
    "order_status = ()\n",
    "order_list = list(order_status)\n",
    "\n",
    "for cust_order in customer_orders:\n",
    "    for key, val in inventory.items():\n",
    "        if key == cust_order:\n",
    "            num_total_prods += val\n",
    "\n",
    "order_list.append(num_total_prods)\n",
    "\n",
    "for cust_order in customer_orders:\n",
    "    for key, val in inventory.items():\n",
    "        if key == cust_order:\n",
    "           percent_orders[key] = 100*inventory[key]/num_total_prods\n",
    "           print(percent_orders[key])\n",
    "           order_list.append(percent_orders[key])\n",
    "    i+= 1\n",
    "\n",
    "\n",
    "order_status = tuple(order_list) \n",
    "# print(order_status)\n",
    "\n",
    "print(\"Order Statistics:\")\n",
    "print(f\"Total Products Ordered: {num_total_prods}\")\n",
    "print (f\"Percentage of Products Ordered: {percent_orders}\")\n"
   ]
  },
  {
   "cell_type": "code",
   "execution_count": 20,
   "metadata": {},
   "outputs": [
    {
     "name": "stdout",
     "output_type": "stream",
     "text": [
      "New quantity of product t-shirt: 0 \n",
      "New quantity of product mug: 1 \n",
      "New quantity of product hat: 2 \n",
      "New quantity of product book: 3 \n",
      "New quantity of product keychain: 4 \n"
     ]
    }
   ],
   "source": [
    "for key, val in inventory.items():\n",
    "    inventory[key] = val -1\n",
    "    print (f\"New quantity of product {key}: {inventory[key]} \")"
   ]
  },
  {
   "cell_type": "code",
   "execution_count": null,
   "metadata": {},
   "outputs": [],
   "source": []
  }
 ],
 "metadata": {
  "kernelspec": {
   "display_name": "base",
   "language": "python",
   "name": "python3"
  },
  "language_info": {
   "codemirror_mode": {
    "name": "ipython",
    "version": 3
   },
   "file_extension": ".py",
   "mimetype": "text/x-python",
   "name": "python",
   "nbconvert_exporter": "python",
   "pygments_lexer": "ipython3",
   "version": "3.12.7"
  }
 },
 "nbformat": 4,
 "nbformat_minor": 4
}
